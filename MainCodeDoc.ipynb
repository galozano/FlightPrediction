{
 "cells": [
  {
   "cell_type": "markdown",
   "metadata": {},
   "source": [
    "## FLIGHT TRUST\n",
    "\n",
    "\n",
    "# Summary\n",
    "\n",
    "Simple python script that runs a regression to predict actual flight time and probability of delay of airlines by route. This document takes you through each of the steps to run the regression for both of these predictions. The document is divided into two main sections: the development, which show the development of the regression, and the Validations, which shows how we validated the data and created the ROC curves."
   ]
  },
  {
   "cell_type": "markdown",
   "metadata": {},
   "source": [
    "# Development\n",
    "\n",
    "## 1. Import\n",
    "First, we start by importing all the neccesary libraries to the project\n"
   ]
  },
  {
   "cell_type": "code",
   "execution_count": 1,
   "metadata": {
    "collapsed": false
   },
   "outputs": [],
   "source": [
    "import pandas as pd\n",
    "import statsmodels.api as sm\n",
    "from sklearn.cross_validation import train_test_split\n",
    "import math\n",
    "import numpy as np\n",
    "import matplotlib.pyplot as plt"
   ]
  },
  {
   "cell_type": "markdown",
   "metadata": {},
   "source": [
    "\n",
    "## 2. Extract Data\n"
   ]
  },
  {
   "cell_type": "code",
   "execution_count": 2,
   "metadata": {
    "collapsed": false
   },
   "outputs": [
    {
     "name": "stderr",
     "output_type": "stream",
     "text": [
      "/Users/gal/anaconda/lib/python3.5/site-packages/IPython/core/interactiveshell.py:2717: DtypeWarning: Columns (0,1,2,3,4,6,7,12,13,14,15,16,17,19,20,21,22,23,24,26,27,28,29,30,31,32,33,34,35,36,37,38,39,40,41,42) have mixed types. Specify dtype option on import or set low_memory=False.\n",
      "  interactivity=interactivity, compiler=compiler, result=result)\n"
     ]
    }
   ],
   "source": [
    "gdf = pd.read_csv(\"./CSV/merged.csv\")"
   ]
  },
  {
   "cell_type": "markdown",
   "metadata": {},
   "source": [
    "## 3. Select Data\n",
    "\n",
    "We start by filtering the columns that were considered the most important based on a data analysis made prior to the development of the regression.\n",
    "\n",
    "We filter by the relevant columns."
   ]
  },
  {
   "cell_type": "code",
   "execution_count": 3,
   "metadata": {
    "collapsed": true
   },
   "outputs": [],
   "source": [
    "df1 = gdf[['AIRLINE_ID','ORIGIN', 'DEST', 'DEP_TIME','ARR_TIME','DEP_DELAY','ARR_DELAY','CANCELLED','DIVERTED','ACTUAL_ELAPSED_TIME']]"
   ]
  },
  {
   "cell_type": "markdown",
   "metadata": {},
   "source": [
    "Afterwards, we filter by the important airports (ATL, DFW, JFK, LAX and ORD)"
   ]
  },
  {
   "cell_type": "code",
   "execution_count": 4,
   "metadata": {
    "collapsed": true
   },
   "outputs": [],
   "source": [
    "df2 = df1.query('(ORIGIN == \"ATL\" or ORIGIN == \"DFW\" or ORIGIN == \"JFK\" or ORIGIN == \"LAX\" or ORIGIN == \"ORD\") and (DEST == \"ATL\" or DEST == \"DFW\" or DEST == \"JFK\" or DEST == \"LAX\" or DEST == \"ORD\")')"
   ]
  },
  {
   "cell_type": "markdown",
   "metadata": {},
   "source": [
    "## 4. Sample Data\n",
    "\n",
    "We now get a random sample Data from the big data set"
   ]
  },
  {
   "cell_type": "code",
   "execution_count": 5,
   "metadata": {
    "collapsed": false
   },
   "outputs": [
    {
     "name": "stdout",
     "output_type": "stream",
     "text": [
      "Sample Size:10000\n"
     ]
    }
   ],
   "source": [
    "sampledf = df2.sample(n=10000)\n",
    "print(\"Sample Size:\" + str(len(sampledf.axes[0])))"
   ]
  },
  {
   "cell_type": "markdown",
   "metadata": {},
   "source": [
    "## 5. Clean Data\n",
    "\n",
    "Having the sample data, we proceed to clean the data and make sure there are no invalid data in the dataset\n",
    "\n",
    "First, we trim the string columns to avoid any unexpected error"
   ]
  },
  {
   "cell_type": "code",
   "execution_count": 6,
   "metadata": {
    "collapsed": true
   },
   "outputs": [],
   "source": [
    "sampledf[\"AIRLINE_ID\"] = sampledf.apply(lambda row: str.strip(str(row.AIRLINE_ID)), axis=1)\n",
    "sampledf[\"ORIGIN\"] = sampledf.apply(lambda row: str.strip(str(row.ORIGIN)), axis=1)\n",
    "sampledf[\"DEST\"] = sampledf.apply(lambda row: str.strip(str(row.DEST)), axis=1)"
   ]
  },
  {
   "cell_type": "markdown",
   "metadata": {},
   "source": [
    "Second, we delete any rows with null values"
   ]
  },
  {
   "cell_type": "code",
   "execution_count": 7,
   "metadata": {
    "collapsed": true
   },
   "outputs": [],
   "source": [
    "sampledf = sampledf.dropna()"
   ]
  },
  {
   "cell_type": "markdown",
   "metadata": {},
   "source": [
    "Third, we change the Actual Elapse Time column to an integer"
   ]
  },
  {
   "cell_type": "code",
   "execution_count": 8,
   "metadata": {
    "collapsed": true
   },
   "outputs": [],
   "source": [
    "sampledf[\"ACTUAL_ELAPSED_TIME\"] = sampledf.apply(lambda row: int(float(row.ACTUAL_ELAPSED_TIME)), axis=1)"
   ]
  },
  {
   "cell_type": "markdown",
   "metadata": {},
   "source": [
    "Finally, we clean any invalid Data - any flight that has negative time"
   ]
  },
  {
   "cell_type": "code",
   "execution_count": 9,
   "metadata": {
    "collapsed": true
   },
   "outputs": [],
   "source": [
    "sampledf = sampledf[sampledf.ACTUAL_ELAPSED_TIME >= 0]"
   ]
  },
  {
   "cell_type": "markdown",
   "metadata": {},
   "source": [
    "## 6. Add new Columns\n",
    "\n",
    "We can now calculate the new columns we need for the regression. Based on a prior data analysis we found that the period of the day is relevant for the delay and flight time of a flight. \n",
    "\n",
    "So, we first calculate the flight periods columns, where Morning is from 6 to 12 , Afternoon is from 12 to 19, Night is from 19 to 24, and Dawn is from 24 to 6"
   ]
  },
  {
   "cell_type": "code",
   "execution_count": 10,
   "metadata": {
    "collapsed": true
   },
   "outputs": [],
   "source": [
    "sampledf[\"Morning\"]   = sampledf.apply(lambda row: 1 if(not row.CANCELLED and int(row.DEP_TIME) >= 600 and int(row.DEP_TIME) < 1200) else 0, axis=1)\n",
    "sampledf[\"Afternoon\"] = sampledf.apply(lambda row: 1 if(not row.CANCELLED and int(row.DEP_TIME) >= 1200 and int(row.DEP_TIME) < 1900) else 0, axis=1)\n",
    "sampledf[\"Night\"]     = sampledf.apply(lambda row: 1 if(not row.CANCELLED and int(row.DEP_TIME) >= 1900 and int(row.DEP_TIME) < 2400) else 0, axis=1)\n",
    "sampledf[\"Dawn\"]      = sampledf.apply(lambda row: 1 if(not row.CANCELLED and int(row.DEP_TIME) >= 2400 and int(row.DEP_TIME) < 600) else 0, axis=1)"
   ]
  },
  {
   "cell_type": "markdown",
   "metadata": {},
   "source": [
    "We also calculate the delay column, which is one if a flight was cancelled, diverted, or has delayed over 30 min"
   ]
  },
  {
   "cell_type": "code",
   "execution_count": 11,
   "metadata": {
    "collapsed": false
   },
   "outputs": [
    {
     "data": {
      "text/plain": [
       "Index(['AIRLINE_ID', 'ORIGIN', 'DEST', 'DEP_TIME', 'ARR_TIME', 'DEP_DELAY',\n",
       "       'ARR_DELAY', 'CANCELLED', 'DIVERTED', 'ACTUAL_ELAPSED_TIME', 'Morning',\n",
       "       'Afternoon', 'Night', 'Dawn', 'Delayed'],\n",
       "      dtype='object')"
      ]
     },
     "execution_count": 11,
     "metadata": {},
     "output_type": "execute_result"
    }
   ],
   "source": [
    "sampledf[\"Delayed\"] = sampledf.apply(lambda row: 1 if(row.CANCELLED or row.DIVERTED or row.ARR_DELAY > 30) else 0 , axis=1)\n",
    "sampledf.columns"
   ]
  },
  {
   "cell_type": "markdown",
   "metadata": {},
   "source": [
    "## 7. Dummy Variables\n",
    "\n",
    "Now we need to create all of the dummy variables for each of the columns"
   ]
  },
  {
   "cell_type": "code",
   "execution_count": 12,
   "metadata": {
    "collapsed": true
   },
   "outputs": [],
   "source": [
    "originDummy = pd.get_dummies(sampledf[\"ORIGIN\"], prefix=\"ORG\", drop_first=True)\n",
    "destDummy = pd.get_dummies(sampledf[\"DEST\"], prefix=\"DST\", drop_first=True)\n",
    "airlineDummy = pd.get_dummies(sampledf[\"AIRLINE_ID\"], prefix=\"AIRLN\", drop_first=True)"
   ]
  },
  {
   "cell_type": "markdown",
   "metadata": {},
   "source": [
    "Using the dummy variables, we create a table for the regression by concatenating all of the dummy columns and the dependant variable "
   ]
  },
  {
   "cell_type": "code",
   "execution_count": 13,
   "metadata": {
    "collapsed": false
   },
   "outputs": [
    {
     "data": {
      "text/html": [
       "<div>\n",
       "<table border=\"1\" class=\"dataframe\">\n",
       "  <thead>\n",
       "    <tr style=\"text-align: right;\">\n",
       "      <th></th>\n",
       "      <th>ORG_DFW</th>\n",
       "      <th>ORG_JFK</th>\n",
       "      <th>ORG_LAX</th>\n",
       "      <th>ORG_ORD</th>\n",
       "      <th>DST_DFW</th>\n",
       "      <th>DST_JFK</th>\n",
       "      <th>DST_LAX</th>\n",
       "      <th>DST_ORD</th>\n",
       "      <th>AIRLN_19790</th>\n",
       "      <th>AIRLN_19805</th>\n",
       "      <th>...</th>\n",
       "      <th>AIRLN_20398</th>\n",
       "      <th>AIRLN_20409</th>\n",
       "      <th>AIRLN_20416</th>\n",
       "      <th>AIRLN_20436</th>\n",
       "      <th>AIRLN_21171</th>\n",
       "      <th>Morning</th>\n",
       "      <th>Afternoon</th>\n",
       "      <th>Night</th>\n",
       "      <th>Delayed</th>\n",
       "      <th>ACTUAL_ELAPSED_TIME</th>\n",
       "    </tr>\n",
       "  </thead>\n",
       "  <tbody>\n",
       "    <tr>\n",
       "      <th>412672</th>\n",
       "      <td>1.0</td>\n",
       "      <td>0.0</td>\n",
       "      <td>0.0</td>\n",
       "      <td>0.0</td>\n",
       "      <td>0.0</td>\n",
       "      <td>0.0</td>\n",
       "      <td>1.0</td>\n",
       "      <td>0.0</td>\n",
       "      <td>0.0</td>\n",
       "      <td>0.0</td>\n",
       "      <td>...</td>\n",
       "      <td>0.0</td>\n",
       "      <td>0.0</td>\n",
       "      <td>0.0</td>\n",
       "      <td>0.0</td>\n",
       "      <td>0.0</td>\n",
       "      <td>0</td>\n",
       "      <td>1</td>\n",
       "      <td>0</td>\n",
       "      <td>0</td>\n",
       "      <td>168</td>\n",
       "    </tr>\n",
       "    <tr>\n",
       "      <th>3104319</th>\n",
       "      <td>0.0</td>\n",
       "      <td>1.0</td>\n",
       "      <td>0.0</td>\n",
       "      <td>0.0</td>\n",
       "      <td>0.0</td>\n",
       "      <td>0.0</td>\n",
       "      <td>1.0</td>\n",
       "      <td>0.0</td>\n",
       "      <td>0.0</td>\n",
       "      <td>1.0</td>\n",
       "      <td>...</td>\n",
       "      <td>0.0</td>\n",
       "      <td>0.0</td>\n",
       "      <td>0.0</td>\n",
       "      <td>0.0</td>\n",
       "      <td>0.0</td>\n",
       "      <td>0</td>\n",
       "      <td>1</td>\n",
       "      <td>0</td>\n",
       "      <td>0</td>\n",
       "      <td>372</td>\n",
       "    </tr>\n",
       "    <tr>\n",
       "      <th>5416505</th>\n",
       "      <td>0.0</td>\n",
       "      <td>1.0</td>\n",
       "      <td>0.0</td>\n",
       "      <td>0.0</td>\n",
       "      <td>0.0</td>\n",
       "      <td>0.0</td>\n",
       "      <td>0.0</td>\n",
       "      <td>1.0</td>\n",
       "      <td>0.0</td>\n",
       "      <td>0.0</td>\n",
       "      <td>...</td>\n",
       "      <td>0.0</td>\n",
       "      <td>1.0</td>\n",
       "      <td>0.0</td>\n",
       "      <td>0.0</td>\n",
       "      <td>0.0</td>\n",
       "      <td>1</td>\n",
       "      <td>0</td>\n",
       "      <td>0</td>\n",
       "      <td>0</td>\n",
       "      <td>165</td>\n",
       "    </tr>\n",
       "    <tr>\n",
       "      <th>3953272</th>\n",
       "      <td>0.0</td>\n",
       "      <td>0.0</td>\n",
       "      <td>1.0</td>\n",
       "      <td>0.0</td>\n",
       "      <td>0.0</td>\n",
       "      <td>1.0</td>\n",
       "      <td>0.0</td>\n",
       "      <td>0.0</td>\n",
       "      <td>0.0</td>\n",
       "      <td>0.0</td>\n",
       "      <td>...</td>\n",
       "      <td>0.0</td>\n",
       "      <td>1.0</td>\n",
       "      <td>0.0</td>\n",
       "      <td>0.0</td>\n",
       "      <td>0.0</td>\n",
       "      <td>0</td>\n",
       "      <td>0</td>\n",
       "      <td>1</td>\n",
       "      <td>0</td>\n",
       "      <td>303</td>\n",
       "    </tr>\n",
       "    <tr>\n",
       "      <th>667530</th>\n",
       "      <td>0.0</td>\n",
       "      <td>1.0</td>\n",
       "      <td>0.0</td>\n",
       "      <td>0.0</td>\n",
       "      <td>0.0</td>\n",
       "      <td>0.0</td>\n",
       "      <td>1.0</td>\n",
       "      <td>0.0</td>\n",
       "      <td>0.0</td>\n",
       "      <td>1.0</td>\n",
       "      <td>...</td>\n",
       "      <td>0.0</td>\n",
       "      <td>0.0</td>\n",
       "      <td>0.0</td>\n",
       "      <td>0.0</td>\n",
       "      <td>0.0</td>\n",
       "      <td>0</td>\n",
       "      <td>0</td>\n",
       "      <td>1</td>\n",
       "      <td>0</td>\n",
       "      <td>411</td>\n",
       "    </tr>\n",
       "  </tbody>\n",
       "</table>\n",
       "<p>5 rows × 23 columns</p>\n",
       "</div>"
      ],
      "text/plain": [
       "         ORG_DFW  ORG_JFK  ORG_LAX  ORG_ORD  DST_DFW  DST_JFK  DST_LAX  \\\n",
       "412672       1.0      0.0      0.0      0.0      0.0      0.0      1.0   \n",
       "3104319      0.0      1.0      0.0      0.0      0.0      0.0      1.0   \n",
       "5416505      0.0      1.0      0.0      0.0      0.0      0.0      0.0   \n",
       "3953272      0.0      0.0      1.0      0.0      0.0      1.0      0.0   \n",
       "667530       0.0      1.0      0.0      0.0      0.0      0.0      1.0   \n",
       "\n",
       "         DST_ORD  AIRLN_19790  AIRLN_19805         ...           AIRLN_20398  \\\n",
       "412672       0.0          0.0          0.0         ...                   0.0   \n",
       "3104319      0.0          0.0          1.0         ...                   0.0   \n",
       "5416505      1.0          0.0          0.0         ...                   0.0   \n",
       "3953272      0.0          0.0          0.0         ...                   0.0   \n",
       "667530       0.0          0.0          1.0         ...                   0.0   \n",
       "\n",
       "         AIRLN_20409  AIRLN_20416  AIRLN_20436  AIRLN_21171  Morning  \\\n",
       "412672           0.0          0.0          0.0          0.0        0   \n",
       "3104319          0.0          0.0          0.0          0.0        0   \n",
       "5416505          1.0          0.0          0.0          0.0        1   \n",
       "3953272          1.0          0.0          0.0          0.0        0   \n",
       "667530           0.0          0.0          0.0          0.0        0   \n",
       "\n",
       "         Afternoon  Night  Delayed  ACTUAL_ELAPSED_TIME  \n",
       "412672           1      0        0                  168  \n",
       "3104319          1      0        0                  372  \n",
       "5416505          0      0        0                  165  \n",
       "3953272          0      1        0                  303  \n",
       "667530           0      1        0                  411  \n",
       "\n",
       "[5 rows x 23 columns]"
      ]
     },
     "execution_count": 13,
     "metadata": {},
     "output_type": "execute_result"
    }
   ],
   "source": [
    "dummyDf = pd.DataFrame()\n",
    "dummyDf = pd.concat([originDummy,destDummy,airlineDummy,sampledf['Morning'], sampledf['Afternoon'], sampledf['Night'],sampledf['Delayed'],sampledf['ACTUAL_ELAPSED_TIME']], axis=1)\n",
    "dummyDf.head()"
   ]
  },
  {
   "cell_type": "markdown",
   "metadata": {},
   "source": [
    "## 8. Split Test & Learn Datasets\n",
    "\n",
    "Then, we split the sample data in training and test data set -- Test size is 20% of the hole data set"
   ]
  },
  {
   "cell_type": "code",
   "execution_count": 14,
   "metadata": {
    "collapsed": true
   },
   "outputs": [],
   "source": [
    "trainingDF, testDF = train_test_split(dummyDf, test_size = 0.2)"
   ]
  },
  {
   "cell_type": "markdown",
   "metadata": {},
   "source": [
    "And we make sure all variables are an integer for the regression"
   ]
  },
  {
   "cell_type": "code",
   "execution_count": 15,
   "metadata": {
    "collapsed": true
   },
   "outputs": [],
   "source": [
    "trainingDF = trainingDF.applymap(np.int)\n",
    "testDF = testDF.applymap(np.int)"
   ]
  },
  {
   "cell_type": "markdown",
   "metadata": {},
   "source": [
    "## 9. 50-50 Data\n",
    "\n",
    "We now split the data set to make sure that 50% of the rows are delayed flights and 50% are non-delayed flights\n",
    "\n",
    "We do it for the training data set"
   ]
  },
  {
   "cell_type": "code",
   "execution_count": 16,
   "metadata": {
    "collapsed": false
   },
   "outputs": [
    {
     "name": "stdout",
     "output_type": "stream",
     "text": [
      "Training Size:1000\n"
     ]
    }
   ],
   "source": [
    "trainingDFDelayed =  trainingDF[trainingDF.Delayed == 1].head(500)\n",
    "trainingDFNotDelayed = trainingDF[trainingDF.Delayed == 0].head(500)\n",
    "\n",
    "allTraining = [trainingDFNotDelayed,trainingDFDelayed]\n",
    "trainingDF = pd.concat(allTraining)\n",
    "\n",
    "print(\"Training Size:\" + str(len(trainingDF.axes[0])))"
   ]
  },
  {
   "cell_type": "markdown",
   "metadata": {},
   "source": [
    "And for the testing data set"
   ]
  },
  {
   "cell_type": "code",
   "execution_count": 17,
   "metadata": {
    "collapsed": false
   },
   "outputs": [
    {
     "name": "stdout",
     "output_type": "stream",
     "text": [
      "Testing Size:200\n"
     ]
    }
   ],
   "source": [
    "testDFDelayed = testDF[testDF.Delayed == 1].head(100)\n",
    "testDFNotDelayed = testDF[testDF.Delayed == 0].head(100)\n",
    "\n",
    "allTest = [testDFDelayed,testDFNotDelayed]\n",
    "testDF = pd.concat(allTest)\n",
    "\n",
    "print(\"Testing Size:\" + str(len(testDF.axes[0])))"
   ]
  },
  {
   "cell_type": "markdown",
   "metadata": {},
   "source": [
    "## 10. Regression - Delayed\n",
    "\n",
    "We can finally run the regression for the Delayed dependent Variable"
   ]
  },
  {
   "cell_type": "code",
   "execution_count": 18,
   "metadata": {
    "collapsed": false
   },
   "outputs": [
    {
     "name": "stdout",
     "output_type": "stream",
     "text": [
      "                            OLS Regression Results                            \n",
      "==============================================================================\n",
      "Dep. Variable:                Delayed   R-squared:                       0.238\n",
      "Model:                            OLS   Adj. R-squared:                  0.221\n",
      "Method:                 Least Squares   F-statistic:                     14.52\n",
      "Date:                Tue, 29 Nov 2016   Prob (F-statistic):           9.82e-45\n",
      "Time:                        22:08:56   Log-Likelihood:                -590.07\n",
      "No. Observations:                1000   AIC:                             1224.\n",
      "Df Residuals:                     978   BIC:                             1332.\n",
      "Df Model:                          21                                         \n",
      "Covariance Type:            nonrobust                                         \n",
      "===============================================================================\n",
      "                  coef    std err          t      P>|t|      [95.0% Conf. Int.]\n",
      "-------------------------------------------------------------------------------\n",
      "AIRLN_19790    -0.0547      0.145     -0.376      0.707        -0.340     0.231\n",
      "AIRLN_19805     0.0715      0.150      0.478      0.633        -0.222     0.365\n",
      "AIRLN_19977     0.0039      0.153      0.025      0.980        -0.296     0.304\n",
      "AIRLN_20304     0.2678      0.165      1.623      0.105        -0.056     0.592\n",
      "AIRLN_20366    -0.2970      0.347     -0.857      0.392        -0.977     0.383\n",
      "AIRLN_20398     0.1778      0.265      0.672      0.502        -0.342     0.697\n",
      "AIRLN_20409    -0.0414      0.162     -0.256      0.798        -0.359     0.277\n",
      "AIRLN_20416     0.1618      0.158      1.027      0.304        -0.147     0.471\n",
      "AIRLN_20436     0.0647      0.172      0.377      0.706        -0.272     0.402\n",
      "AIRLN_21171     0.0978      0.166      0.590      0.555        -0.228     0.423\n",
      "Afternoon      -0.3956      0.042     -9.405      0.000        -0.478    -0.313\n",
      "DST_DFW        -0.0584      0.062     -0.937      0.349        -0.181     0.064\n",
      "DST_JFK         0.1066      0.060      1.766      0.078        -0.012     0.225\n",
      "DST_LAX        -0.0580      0.054     -1.071      0.284        -0.164     0.048\n",
      "DST_ORD         0.0250      0.057      0.439      0.661        -0.087     0.137\n",
      "Morning        -0.5878      0.043    -13.743      0.000        -0.672    -0.504\n",
      "Night          -0.2878      0.047     -6.093      0.000        -0.380    -0.195\n",
      "ORG_DFW         0.0556      0.063      0.882      0.378        -0.068     0.179\n",
      "ORG_JFK         0.1305      0.063      2.080      0.038         0.007     0.254\n",
      "ORG_LAX        -0.0749      0.056     -1.333      0.183        -0.185     0.035\n",
      "ORG_ORD         0.1194      0.059      2.027      0.043         0.004     0.235\n",
      "const           0.7654      0.151      5.082      0.000         0.470     1.061\n",
      "==============================================================================\n",
      "Omnibus:                      327.911   Durbin-Watson:                   0.478\n",
      "Prob(Omnibus):                  0.000   Jarque-Bera (JB):               51.119\n",
      "Skew:                           0.128   Prob(JB):                     7.94e-12\n",
      "Kurtosis:                       1.923   Cond. No.                         48.9\n",
      "==============================================================================\n",
      "\n",
      "Warnings:\n",
      "[1] Standard Errors assume that the covariance matrix of the errors is correctly specified.\n"
     ]
    }
   ],
   "source": [
    "XValues = sm.add_constant(trainingDF[trainingDF.columns.difference(['Delayed','ACTUAL_ELAPSED_TIME'])], prepend=False)\n",
    "resultDelayed = sm.OLS(trainingDF['Delayed'], XValues).fit()\n",
    "print(resultDelayed.summary())"
   ]
  },
  {
   "cell_type": "markdown",
   "metadata": {},
   "source": [
    "## 11. Regression - Predicted Total Time (Flight time + taxi)\n",
    "\n",
    "We run the regression to predict the flight time"
   ]
  },
  {
   "cell_type": "code",
   "execution_count": 19,
   "metadata": {
    "collapsed": false
   },
   "outputs": [
    {
     "name": "stdout",
     "output_type": "stream",
     "text": [
      "                             OLS Regression Results                            \n",
      "===============================================================================\n",
      "Dep. Variable:     ACTUAL_ELAPSED_TIME   R-squared:                       0.854\n",
      "Model:                             OLS   Adj. R-squared:                  0.851\n",
      "Method:                  Least Squares   F-statistic:                     272.2\n",
      "Date:                 Tue, 29 Nov 2016   Prob (F-statistic):               0.00\n",
      "Time:                         22:09:16   Log-Likelihood:                -4929.8\n",
      "No. Observations:                 1000   AIC:                             9904.\n",
      "Df Residuals:                      978   BIC:                         1.001e+04\n",
      "Df Model:                           21                                         \n",
      "Covariance Type:             nonrobust                                         \n",
      "===============================================================================\n",
      "                  coef    std err          t      P>|t|      [95.0% Conf. Int.]\n",
      "-------------------------------------------------------------------------------\n",
      "const         162.7184     11.548     14.090      0.000       140.056   185.380\n",
      "AIRLN_19790   -36.6926     11.154     -3.290      0.001       -58.581   -14.804\n",
      "AIRLN_19805   -32.3481     11.472     -2.820      0.005       -54.861    -9.835\n",
      "AIRLN_19977   -30.5088     11.728     -2.601      0.009       -53.524    -7.493\n",
      "AIRLN_20304   -28.5561     12.654     -2.257      0.024       -53.388    -3.724\n",
      "AIRLN_20366   -42.7696     26.577     -1.609      0.108       -94.924     9.385\n",
      "AIRLN_20398   -54.4028     20.298     -2.680      0.007       -94.235   -14.571\n",
      "AIRLN_20409   -47.0351     12.427     -3.785      0.000       -71.421   -22.649\n",
      "AIRLN_20416   -34.3411     12.079     -2.843      0.005       -58.045   -10.637\n",
      "AIRLN_20436   -27.6405     13.161     -2.100      0.036       -53.468    -1.813\n",
      "AIRLN_21171   -28.4629     12.712     -2.239      0.025       -53.409    -3.517\n",
      "Afternoon       2.0126      3.225      0.624      0.533        -4.317     8.342\n",
      "DST_DFW         3.0961      4.781      0.648      0.517        -6.285    12.477\n",
      "DST_JFK        73.3682      4.628     15.852      0.000        64.285    82.451\n",
      "DST_LAX       139.8638      4.153     33.676      0.000       131.713   148.014\n",
      "DST_ORD         8.9190      4.360      2.045      0.041         0.362    17.476\n",
      "Morning         1.4039      3.280      0.428      0.669        -5.032     7.840\n",
      "Night           1.2318      3.622      0.340      0.734        -5.876     8.340\n",
      "ORG_DFW       -18.8795      4.833     -3.906      0.000       -28.364    -9.395\n",
      "ORG_JFK        88.3285      4.810     18.362      0.000        78.889    97.768\n",
      "ORG_LAX       102.3241      4.307     23.758      0.000        93.872   110.776\n",
      "ORG_ORD        -6.8527      4.518     -1.517      0.130       -15.720     2.014\n",
      "==============================================================================\n",
      "Omnibus:                       47.866   Durbin-Watson:                   1.891\n",
      "Prob(Omnibus):                  0.000   Jarque-Bera (JB):              155.574\n",
      "Skew:                          -0.011   Prob(JB):                     1.65e-34\n",
      "Kurtosis:                       4.932   Cond. No.                         48.9\n",
      "==============================================================================\n",
      "\n",
      "Warnings:\n",
      "[1] Standard Errors assume that the covariance matrix of the errors is correctly specified.\n"
     ]
    }
   ],
   "source": [
    "XValues = sm.add_constant(trainingDF[trainingDF.columns.difference(['Delayed','ACTUAL_ELAPSED_TIME'])])\n",
    "resultTime = sm.OLS(trainingDF['ACTUAL_ELAPSED_TIME'], XValues ).fit()\n",
    "print(resultTime.summary())"
   ]
  },
  {
   "cell_type": "markdown",
   "metadata": {},
   "source": [
    "# VALIDATION AND TESTING"
   ]
  },
  {
   "cell_type": "markdown",
   "metadata": {},
   "source": [
    "## Validate with Test Data -- Delayed Prediction\n",
    "\n",
    "Using the regression, we predict the outcome for the testing data set for the delay prediction."
   ]
  },
  {
   "cell_type": "code",
   "execution_count": 24,
   "metadata": {
    "collapsed": false
   },
   "outputs": [
    {
     "name": "stderr",
     "output_type": "stream",
     "text": [
      "/Users/gal/anaconda/lib/python3.5/site-packages/ipykernel/__main__.py:8: SettingWithCopyWarning: \n",
      "A value is trying to be set on a copy of a slice from a DataFrame.\n",
      "Try using .loc[row_indexer,col_indexer] = value instead\n",
      "\n",
      "See the caveats in the documentation: http://pandas.pydata.org/pandas-docs/stable/indexing.html#indexing-view-versus-copy\n"
     ]
    },
    {
     "data": {
      "text/html": [
       "<div>\n",
       "<table border=\"1\" class=\"dataframe\">\n",
       "  <thead>\n",
       "    <tr style=\"text-align: right;\">\n",
       "      <th></th>\n",
       "      <th>Real_Delayed</th>\n",
       "      <th>Calculated_Delay</th>\n",
       "    </tr>\n",
       "  </thead>\n",
       "  <tbody>\n",
       "    <tr>\n",
       "      <th>5350147</th>\n",
       "      <td>1</td>\n",
       "      <td>0.143945</td>\n",
       "    </tr>\n",
       "    <tr>\n",
       "      <th>2506044</th>\n",
       "      <td>1</td>\n",
       "      <td>-0.399001</td>\n",
       "    </tr>\n",
       "    <tr>\n",
       "      <th>1467895</th>\n",
       "      <td>1</td>\n",
       "      <td>-0.649615</td>\n",
       "    </tr>\n",
       "    <tr>\n",
       "      <th>958060</th>\n",
       "      <td>1</td>\n",
       "      <td>0.132859</td>\n",
       "    </tr>\n",
       "    <tr>\n",
       "      <th>2153379</th>\n",
       "      <td>1</td>\n",
       "      <td>-0.435742</td>\n",
       "    </tr>\n",
       "  </tbody>\n",
       "</table>\n",
       "</div>"
      ],
      "text/plain": [
       "         Real_Delayed  Calculated_Delay\n",
       "5350147             1          0.143945\n",
       "2506044             1         -0.399001\n",
       "1467895             1         -0.649615\n",
       "958060              1          0.132859\n",
       "2153379             1         -0.435742"
      ]
     },
     "execution_count": 24,
     "metadata": {},
     "output_type": "execute_result"
    }
   ],
   "source": [
    "#Copy of the testing data set\n",
    "validateDataDelay = testDF.copy()\n",
    "\n",
    "#Get a subset of the data without the validation data \n",
    "subsetPredictDelay = validateDataDelay[validateDataDelay.columns.difference(['Delayed','ACTUAL_ELAPSED_TIME'])]\n",
    "\n",
    "#Predict the outcome with the regression and put the result in a new column\n",
    "subsetPredictDelay['Calculated_Delay'] = subsetPredictDelay.apply(lambda row: (row * resultDelayed.params).sum(),axis=1)\n",
    "\n",
    "#Add the real outcome in a new column\n",
    "subsetPredictDelay[\"Real_Delayed\"] = testDF[\"Delayed\"]\n",
    "\n",
    "subsetPredictDelay.head()[[\"Real_Delayed\",\"Calculated_Delay\"]]\n"
   ]
  },
  {
   "cell_type": "markdown",
   "metadata": {},
   "source": [
    "## Validate with Test Data -- Predicted Total Time (Flight time + taxi)\n",
    "\n",
    "Using the regression, we predict the outcome for the testing data set for the flight time prediction."
   ]
  },
  {
   "cell_type": "code",
   "execution_count": 23,
   "metadata": {
    "collapsed": false
   },
   "outputs": [
    {
     "name": "stderr",
     "output_type": "stream",
     "text": [
      "/Users/gal/anaconda/lib/python3.5/site-packages/ipykernel/__main__.py:5: SettingWithCopyWarning: \n",
      "A value is trying to be set on a copy of a slice from a DataFrame.\n",
      "Try using .loc[row_indexer,col_indexer] = value instead\n",
      "\n",
      "See the caveats in the documentation: http://pandas.pydata.org/pandas-docs/stable/indexing.html#indexing-view-versus-copy\n"
     ]
    },
    {
     "data": {
      "text/html": [
       "<div>\n",
       "<table border=\"1\" class=\"dataframe\">\n",
       "  <thead>\n",
       "    <tr style=\"text-align: right;\">\n",
       "      <th></th>\n",
       "      <th>ACTUAL_ELAPSED_TIME</th>\n",
       "      <th>Calculated</th>\n",
       "      <th>Difference</th>\n",
       "    </tr>\n",
       "  </thead>\n",
       "  <tbody>\n",
       "    <tr>\n",
       "      <th>5350147</th>\n",
       "      <td>367</td>\n",
       "      <td>358.562598</td>\n",
       "      <td>8.437402</td>\n",
       "    </tr>\n",
       "    <tr>\n",
       "      <th>2506044</th>\n",
       "      <td>249</td>\n",
       "      <td>234.707071</td>\n",
       "      <td>14.292929</td>\n",
       "    </tr>\n",
       "    <tr>\n",
       "      <th>1467895</th>\n",
       "      <td>203</td>\n",
       "      <td>237.194454</td>\n",
       "      <td>34.194454</td>\n",
       "    </tr>\n",
       "    <tr>\n",
       "      <th>958060</th>\n",
       "      <td>258</td>\n",
       "      <td>263.381389</td>\n",
       "      <td>5.381389</td>\n",
       "    </tr>\n",
       "    <tr>\n",
       "      <th>2153379</th>\n",
       "      <td>114</td>\n",
       "      <td>121.813684</td>\n",
       "      <td>7.813684</td>\n",
       "    </tr>\n",
       "  </tbody>\n",
       "</table>\n",
       "</div>"
      ],
      "text/plain": [
       "         ACTUAL_ELAPSED_TIME  Calculated  Difference\n",
       "5350147                  367  358.562598    8.437402\n",
       "2506044                  249  234.707071   14.292929\n",
       "1467895                  203  237.194454   34.194454\n",
       "958060                   258  263.381389    5.381389\n",
       "2153379                  114  121.813684    7.813684"
      ]
     },
     "execution_count": 23,
     "metadata": {},
     "output_type": "execute_result"
    }
   ],
   "source": [
    "#Copy of the testing data set\n",
    "validateDataTime = testDF.copy()\n",
    "\n",
    "subsetPredictTime = validateDataTime[validateDataTime.columns.difference(['Delayed','ACTUAL_ELAPSED_TIME'])]\n",
    "subsetPredictTime[\"const\"] = 1\n",
    "subsetPredictTime['Calculated'] = subsetPredictTime.apply(lambda row: (row * resultTime.params).sum(),axis=1)\n",
    "\n",
    "subsetPredictTime[\"ACTUAL_ELAPSED_TIME\"] = validateDataTime[\"ACTUAL_ELAPSED_TIME\"]\n",
    "subsetPredictTime[\"Difference\"] = subsetPredictTime.apply(lambda row: abs(row.ACTUAL_ELAPSED_TIME - row.Calculated), axis=1)\n",
    "\n",
    "subsetPredictTime.head()[[\"ACTUAL_ELAPSED_TIME\",\"Calculated\",\"Difference\"]]"
   ]
  },
  {
   "cell_type": "markdown",
   "metadata": {},
   "source": [
    "## Predicted Total Time Graph (Testing set is used here)\n",
    "\n",
    "Now we create a testing graph where we can see how much if the data is under a specific difference of time. "
   ]
  },
  {
   "cell_type": "code",
   "execution_count": 30,
   "metadata": {
    "collapsed": false
   },
   "outputs": [
    {
     "data": {
      "image/png": "[encoded data removed]",
      "text/plain": [
       "<matplotlib.figure.Figure at 0x11b2e01d0>"
      ]
     },
     "metadata": {},
     "output_type": "display_data"
    }
   ],
   "source": [
    "#Create dataframe with the difference ranges\n",
    "roicTime = pd.DataFrame({\"Values\":range(int(subsetPredictTime[\"Difference\"].min()),int(subsetPredictTime[\"Difference\"].max()),10)})\n",
    "roicTime[\"Percentage\"] = roicTime.apply(lambda row: len(subsetPredictTime[subsetPredictTime.Difference < row.Values][\"Difference\"]) / len(subsetPredictTime[\"Difference\"]) * 100, axis=1 )\n",
    "\n",
    "plt.plot(roicTime.Values,roicTime.Percentage)\n",
    "plt.xlabel(\"Time Difference between actual and predicted (min)\")\n",
    "plt.ylabel(\"% of Data covered\")\n",
    "plt.title('Predict Time Validation Graph')\n",
    "plt.show()"
   ]
  },
  {
   "cell_type": "markdown",
   "metadata": {},
   "source": [
    "## Calculate ROC -- Predicted Delay (Testing set is used here)"
   ]
  },
  {
   "cell_type": "markdown",
   "metadata": {},
   "source": [
    "We calculated the Truth Table"
   ]
  },
  {
   "cell_type": "code",
   "execution_count": 33,
   "metadata": {
    "collapsed": false
   },
   "outputs": [
    {
     "data": {
      "text/html": [
       "<div>\n",
       "<table border=\"1\" class=\"dataframe\">\n",
       "  <thead>\n",
       "    <tr style=\"text-align: right;\">\n",
       "      <th></th>\n",
       "      <th>Values</th>\n",
       "      <th>T_P</th>\n",
       "      <th>F_P</th>\n",
       "      <th>T_N</th>\n",
       "      <th>F_N</th>\n",
       "    </tr>\n",
       "  </thead>\n",
       "  <tbody>\n",
       "    <tr>\n",
       "      <th>0</th>\n",
       "      <td>-0.717371</td>\n",
       "      <td>100</td>\n",
       "      <td>98</td>\n",
       "      <td>0</td>\n",
       "      <td>0</td>\n",
       "    </tr>\n",
       "    <tr>\n",
       "      <th>1</th>\n",
       "      <td>-0.617371</td>\n",
       "      <td>97</td>\n",
       "      <td>91</td>\n",
       "      <td>9</td>\n",
       "      <td>3</td>\n",
       "    </tr>\n",
       "    <tr>\n",
       "      <th>2</th>\n",
       "      <td>-0.517371</td>\n",
       "      <td>96</td>\n",
       "      <td>75</td>\n",
       "      <td>25</td>\n",
       "      <td>4</td>\n",
       "    </tr>\n",
       "    <tr>\n",
       "      <th>3</th>\n",
       "      <td>-0.417371</td>\n",
       "      <td>85</td>\n",
       "      <td>58</td>\n",
       "      <td>42</td>\n",
       "      <td>15</td>\n",
       "    </tr>\n",
       "    <tr>\n",
       "      <th>4</th>\n",
       "      <td>-0.317371</td>\n",
       "      <td>69</td>\n",
       "      <td>44</td>\n",
       "      <td>56</td>\n",
       "      <td>31</td>\n",
       "    </tr>\n",
       "    <tr>\n",
       "      <th>5</th>\n",
       "      <td>-0.217371</td>\n",
       "      <td>53</td>\n",
       "      <td>20</td>\n",
       "      <td>80</td>\n",
       "      <td>47</td>\n",
       "    </tr>\n",
       "    <tr>\n",
       "      <th>6</th>\n",
       "      <td>-0.117371</td>\n",
       "      <td>50</td>\n",
       "      <td>7</td>\n",
       "      <td>93</td>\n",
       "      <td>50</td>\n",
       "    </tr>\n",
       "    <tr>\n",
       "      <th>7</th>\n",
       "      <td>-0.017371</td>\n",
       "      <td>44</td>\n",
       "      <td>5</td>\n",
       "      <td>95</td>\n",
       "      <td>56</td>\n",
       "    </tr>\n",
       "    <tr>\n",
       "      <th>8</th>\n",
       "      <td>0.082629</td>\n",
       "      <td>30</td>\n",
       "      <td>2</td>\n",
       "      <td>98</td>\n",
       "      <td>70</td>\n",
       "    </tr>\n",
       "    <tr>\n",
       "      <th>9</th>\n",
       "      <td>0.182629</td>\n",
       "      <td>3</td>\n",
       "      <td>1</td>\n",
       "      <td>99</td>\n",
       "      <td>97</td>\n",
       "    </tr>\n",
       "  </tbody>\n",
       "</table>\n",
       "</div>"
      ],
      "text/plain": [
       "     Values  T_P  F_P  T_N  F_N\n",
       "0 -0.717371  100   98    0    0\n",
       "1 -0.617371   97   91    9    3\n",
       "2 -0.517371   96   75   25    4\n",
       "3 -0.417371   85   58   42   15\n",
       "4 -0.317371   69   44   56   31\n",
       "5 -0.217371   53   20   80   47\n",
       "6 -0.117371   50    7   93   50\n",
       "7 -0.017371   44    5   95   56\n",
       "8  0.082629   30    2   98   70\n",
       "9  0.182629    3    1   99   97"
      ]
     },
     "execution_count": 33,
     "metadata": {},
     "output_type": "execute_result"
    }
   ],
   "source": [
    "roicDelay = pd.DataFrame({\"Values\": np.arange(subsetPredictDelay[\"Calculated_Delay\"].min(),subsetPredictDelay[\"Calculated_Delay\"].max(),0.1)})\n",
    "\n",
    "#True Positive\n",
    "roicDelay[\"T_P\"] = roicDelay.apply(lambda row:len(subsetPredictDelay[(subsetPredictDelay.Calculated_Delay > row.Values) & (subsetPredictDelay.Real_Delayed == 1)]),axis=1)\n",
    "#False Positive\n",
    "roicDelay[\"F_P\"] = roicDelay.apply(lambda row:len(subsetPredictDelay[(subsetPredictDelay.Calculated_Delay > row.Values) & (subsetPredictDelay.Real_Delayed == 0)]),axis=1)\n",
    "#True Negative\n",
    "roicDelay[\"T_N\"] = roicDelay.apply(lambda row:len(subsetPredictDelay[(subsetPredictDelay.Calculated_Delay < row.Values) & (subsetPredictDelay.Real_Delayed == 0)]),axis=1)\n",
    "#False Negative\n",
    "roicDelay[\"F_N\"] = roicDelay.apply(lambda row:len(subsetPredictDelay[(subsetPredictDelay.Calculated_Delay < row.Values) & (subsetPredictDelay.Real_Delayed == 1)]),axis=1)\n",
    "\n",
    "roicDelay"
   ]
  },
  {
   "cell_type": "markdown",
   "metadata": {},
   "source": [
    "Finally, we graph the ROC line"
   ]
  },
  {
   "cell_type": "code",
   "execution_count": 35,
   "metadata": {
    "collapsed": false
   },
   "outputs": [
    {
     "data": {
      "image/png": "[encoded data removed]",
      "text/plain": [
       "<matplotlib.figure.Figure at 0x11bda30b8>"
      ]
     },
     "metadata": {},
     "output_type": "display_data"
    }
   ],
   "source": [
    "#False Posive Ration \n",
    "roicDelay[\"F_P_R\"] = roicDelay.apply(lambda row: row[\"F_P\"]/(row[\"F_P\"] + row[\"T_N\"]),axis=1)\n",
    "#Recall Ration\n",
    "roicDelay[\"Recall\"] = roicDelay.apply(lambda row: row[\"T_P\"]/(row[\"T_P\"] + row[\"F_N\"]),axis=1)\n",
    "\n",
    "plt.plot(roicDelay[\"F_P_R\"],roicDelay[\"Recall\"] )\n",
    "plt.xlabel(\"False Positive Relation\")\n",
    "plt.ylabel(\"Recall\")\n",
    "plt.title('ROC Chart')\n",
    "plt.show()"
   ]
  },
  {
   "cell_type": "code",
   "execution_count": null,
   "metadata": {
    "collapsed": true
   },
   "outputs": [],
   "source": []
  }
 ],
 "metadata": {
  "kernelspec": {
   "display_name": "Python [default]",
   "language": "python",
   "name": "python3"
  },
  "language_info": {
   "codemirror_mode": {
    "name": "ipython",
    "version": 3
   },
   "file_extension": ".py",
   "mimetype": "text/x-python",
   "name": "python",
   "nbconvert_exporter": "python",
   "pygments_lexer": "ipython3",
   "version": "3.5.2"
  }
 },
 "nbformat": 4,
 "nbformat_minor": 1
}
